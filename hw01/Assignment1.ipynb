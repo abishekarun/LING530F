{
 "cells": [
  {
   "cell_type": "markdown",
   "metadata": {
    "colab_type": "text",
    "id": "0YsaZfVP9vXF"
   },
   "source": [
    "<h1 align=\"center\">LING530F: Deep Learning for NLP</h1>\n",
    "<h1 align=\"center\">Assignment 1 : Word Embeddings</h1>\n",
    "<h2 align=\"center\"> Arun Rajendran(86611860)</h2>"
   ]
  },
  {
   "cell_type": "markdown",
   "metadata": {
    "colab_type": "text",
    "id": "lquWfc7P_S3-"
   },
   "source": [
    "### *First, Lets download the data from drive. For this we can use the GoogleDriveDownloader package.*"
   ]
  },
  {
   "cell_type": "code",
   "execution_count": 1,
   "metadata": {
    "colab": {
     "base_uri": "https://localhost:8080/",
     "height": 34
    },
    "colab_type": "code",
    "executionInfo": {
     "elapsed": 4430,
     "status": "ok",
     "timestamp": 1538616597377,
     "user": {
      "displayName": "Arun Rajendran",
      "photoUrl": "",
      "userId": "13232103691779797358"
     },
     "user_tz": 420
    },
    "id": "JKK8lJCQ9gRK",
    "outputId": "50d67616-5732-4248-f1f1-5e32f31f8fc5"
   },
   "outputs": [
    {
     "name": "stdout",
     "output_type": "stream",
     "text": [
      "Downloading 0B046sNk0DhCDY1B1NGZOOEFUa1E into data/yelp_academic_dataset_review_preprosessd.json... Done.\n"
     ]
    }
   ],
   "source": [
    "from google_drive_downloader import GoogleDriveDownloader as gdd\n",
    "\n",
    "gdd.download_file_from_google_drive(file_id='0B046sNk0DhCDY1B1NGZOOEFUa1E',                 # Id of file to be downloaded\n",
    "                                    dest_path='data/yelp_academic_dataset_review_preprosessd.json')     # Destination path"
   ]
  },
  {
   "cell_type": "markdown",
   "metadata": {
    "colab_type": "text",
    "id": "-lA55PnM6Oy5"
   },
   "source": [
    "## 1. Writing text field of reviews to Text File\n",
    "### Required: Extract all the text fields from the YELP dataset, and write these fields into a single text file"
   ]
  },
  {
   "cell_type": "markdown",
   "metadata": {
    "colab_type": "text",
    "id": "TlPcIH0v_wjz"
   },
   "source": [
    "### *Now, Lets read the json file line by line using json.loads() function and write the 'text' field of each review into the text file if reading the line doesnt produce a error. We print the line and continue reading the json file if there is an error.*"
   ]
  },
  {
   "cell_type": "code",
   "execution_count": 2,
   "metadata": {
    "colab": {
     "base_uri": "https://localhost:8080/",
     "height": 71
    },
    "colab_type": "code",
    "executionInfo": {
     "elapsed": 3874,
     "status": "ok",
     "timestamp": 1538616601332,
     "user": {
      "displayName": "Arun Rajendran",
      "photoUrl": "",
      "userId": "13232103691779797358"
     },
     "user_tz": 420
    },
    "id": "hUlI2SQx5Pmh",
    "outputId": "36eaebaa-4f3a-4d6f-a7ef-4fe346ef582b"
   },
   "outputs": [
    {
     "name": "stdout",
     "output_type": "stream",
     "text": [
      "{\"text\": \"Pepe's has great Mexican food and a pretty extensive menu, but I always seem to order the same items: a chile relleno burrito, a chorizo and egg burrito, or birria (goat) or carne asda tacos. Today I came for breakfast, so it was one chorizo and egg burrito and two carne asda tacos, which I took home to split with my husband.\\n\\nAs usual, the food was delish, but the only reason I can't give it 5 stars is because the burrito was so dang greasy. Yeah, I know chorizo is greasy, but this was WAY too greasy ... like the tortilla was completely soaked through.\\n\\nI do love their chile relleno burrito, which is one of the best burritos I've ever had. And their goat tacos are fantastic. So maybe next time I'll skip the chorizo and stick with the chile relleno. You can't go wrong with any of their tacos, which are served street-style in small corn tortillas. And while I've never tried them, the carne asada fries seem to be popular. \\n\\nJust lighten up on the grease, please...\", \"review_id\": \"IzGvFn94oYUYMP-Hrtc_Dw\", \"stars\": 4, \"pos\": \"Pepe/NNP 's/POS has/VBZ great/JJ Mexic\n",
      "\n"
     ]
    }
   ],
   "source": [
    "import json\n",
    "f = open('data/yelp_academic_dataset_review_preprosessd.json',mode='r')        # Open the json file in read mode\n",
    "line = f.readline()\n",
    "out = open('yelp_text_data.txt',mode='w')                                      # Open text file in write mode\n",
    "while line:\n",
    "    line = f.readline()                                                        # Read one line on json file\n",
    "    try:\n",
    "        review=json.loads(line)                                                # Get the review from the line\n",
    "    except:\n",
    "        print(line)\n",
    "        continue                                        # Print line causing error and continue while writing other lines\n",
    "    out.write(review['text'])                           # Write the text field of review to text file\n",
    "    out.write('\\n')\n",
    "f.close()  \n",
    "out.close()                                             # Close both text file & json file"
   ]
  },
  {
   "cell_type": "markdown",
   "metadata": {
    "colab_type": "text",
    "id": "gYK6ukEF62-q"
   },
   "source": [
    "## 2. Word Frequency Dictionary & Top 20 words\n",
    "### Required: Extract a word frequency dictionary of the data, and print the top most frequent 20 words."
   ]
  },
  {
   "cell_type": "markdown",
   "metadata": {
    "colab_type": "text",
    "id": "W9-zuzL2CjVi"
   },
   "source": [
    "### *Lets create a dictionary of word frequencies by reading saved file line by line and incrementing the count of appropriate words*"
   ]
  },
  {
   "cell_type": "code",
   "execution_count": 0,
   "metadata": {
    "colab": {},
    "colab_type": "code",
    "id": "lUTNVmS7EwOr"
   },
   "outputs": [],
   "source": [
    "wordsfreq={}                                      # Create dictionary \n",
    "f = open('yelp_text_data.txt',mode='r')           # Open text file in read mode\n",
    "for line in f:\n",
    "    for word in line.split(' '):                  # Split lines by spaces to get words\n",
    "        if(word in wordsfreq.keys()):\n",
    "            wordsfreq[word]=wordsfreq[word]+1     # Update frequencies for existing words\n",
    "        else:\n",
    "            wordsfreq[word] = 1                   # Include the word in dictionary and assign value to 1"
   ]
  },
  {
   "cell_type": "markdown",
   "metadata": {
    "colab_type": "text",
    "id": "1dxrHeY1Ckps"
   },
   "source": [
    " ### *Lets create a counter object using our dictionary as argument to identify the most common words*"
   ]
  },
  {
   "cell_type": "code",
   "execution_count": 4,
   "metadata": {
    "colab": {
     "base_uri": "https://localhost:8080/",
     "height": 357
    },
    "colab_type": "code",
    "executionInfo": {
     "elapsed": 394,
     "status": "ok",
     "timestamp": 1538616618538,
     "user": {
      "displayName": "Arun Rajendran",
      "photoUrl": "",
      "userId": "13232103691779797358"
     },
     "user_tz": 420
    },
    "id": "NjUUPO9eGoKm",
    "outputId": "ab704449-2957-4536-c5cf-f6b38e8f5296"
   },
   "outputs": [
    {
     "data": {
      "text/plain": [
       "[('the', 980843),\n",
       " ('and', 792376),\n",
       " ('I', 664915),\n",
       " ('a', 606675),\n",
       " ('to', 593695),\n",
       " ('', 488433),\n",
       " ('was', 377753),\n",
       " ('of', 346683),\n",
       " ('\\n', 330804),\n",
       " ('is', 301144),\n",
       " ('for', 278723),\n",
       " ('in', 262841),\n",
       " ('it', 208390),\n",
       " ('my', 202606),\n",
       " ('that', 201489),\n",
       " ('The', 196089),\n",
       " ('with', 183760),\n",
       " ('have', 167766),\n",
       " ('but', 160038),\n",
       " ('you', 156674)]"
      ]
     },
     "execution_count": 4,
     "metadata": {
      "tags": []
     },
     "output_type": "execute_result"
    }
   ],
   "source": [
    "from collections import Counter\n",
    "c = Counter(wordsfreq)                          # Create counter object of wordsfreq dictionary\n",
    "c.most_common(20)                               # Print the 20 words with highest frequencies"
   ]
  },
  {
   "cell_type": "markdown",
   "metadata": {
    "colab_type": "text",
    "id": "cFs_NVnf70jo"
   },
   "source": [
    "## 3. Preprocessing using NLTK\n",
    "### Required: Use NLTK or SpaCy to remove stop words, tokenize, and pos tag the data. See here, for example."
   ]
  },
  {
   "cell_type": "markdown",
   "metadata": {
    "colab_type": "text",
    "id": "G6dMVZPFClzI"
   },
   "source": [
    "### *As you can see, the most common words are those like \"a\",\"the\",\"to\",\"and\" which provide little to no information for any NLP task and are usually termed as stop words. It is often better to remove these words and we can do the same using NLTK library. *\n",
    "\n",
    "### *Firstly, we tokenize the sentences and hen remove stop words. Lastly, we store the tokens of the sentences with their pos tags in a list.*"
   ]
  },
  {
   "cell_type": "code",
   "execution_count": 0,
   "metadata": {
    "colab": {},
    "colab_type": "code",
    "id": "TdC4YEg1IOLi"
   },
   "outputs": [],
   "source": [
    "import nltk\n",
    "from nltk.corpus import stopwords \n",
    "from nltk.tokenize import word_tokenize\n",
    "\n",
    "# Get the stop words defined in nltk for english\n",
    "stop_words = set(stopwords.words('english'))                             \n",
    "\n",
    "# Create filtered & tagged sentences as list\n",
    "tagged_sentences=[]\n",
    "filtered_sentences=[]                                                    \n",
    "\n",
    "\n",
    "# Open the text file in read mode\n",
    "f = open('yelp_text_data.txt',mode='r')                                  \n",
    "\n",
    "for line in f:\n",
    "        # Tokenize each line\n",
    "        word_tokens = word_tokenize(line)                                 \n",
    "        # Filter the tokens without stop words and put them in a list\n",
    "        sentence = [w for w in word_tokens if not w in stop_words]\n",
    "        # Append the sentence(a list) to filtered sentences\n",
    "        filtered_sentences.append(sentence)                              \n",
    "        # Append the pos tags of the sentence(list of tuples) to tagged sentences\n",
    "        tagged_sentences.append(nltk.pos_tag(sentence))                  "
   ]
  },
  {
   "cell_type": "markdown",
   "metadata": {
    "colab_type": "text",
    "id": "D2d9XF2781jq"
   },
   "source": [
    "## 4a. Histogram Frequency of Word Frequencies\n",
    "### Required: Plot a histogram of the the frequencies of a random sample of tokens in the data (pick 100 tokens).For example, suppose the word \"cat\" occurred 10K times and the word \"elephant\" occurred 7k times. You just need to produce a histogram with these frequencies. Note: you can take the log of each frequency and just plot the logs. You can use matplotlib for your visualizations. Another cool library is seaborn."
   ]
  },
  {
   "cell_type": "markdown",
   "metadata": {
    "colab_type": "text",
    "id": "YMG6FrkbCmuF"
   },
   "source": [
    "### *Lets create a dictionary with words as keys and dictionary of tags and their counts as values. For example, if we have abcd:{'NN:10,...'} in the dictionary it implies that the word abcd was tagged as NN in 10 of the sentences. This will help us understand the distribution of words across different pos tags.*"
   ]
  },
  {
   "cell_type": "code",
   "execution_count": 0,
   "metadata": {
    "colab": {},
    "colab_type": "code",
    "id": "ofrpf-m1g1iH"
   },
   "outputs": [],
   "source": [
    "# Create dictionary of tags & counts for each word\n",
    "word_tags_count={}                                                                      \n",
    "for line in tagged_sentences:\n",
    "    for item in line:\n",
    "        # Check if word is already in the dictionary                         \n",
    "        if(item[0] in word_tags_count.keys()):              \n",
    "            # Check if tag is already present as key in the dictionary of the word\n",
    "            if(item[1] in word_tags_count[item[0]].keys()): \n",
    "                # Update the count of tag for the word\n",
    "                word_tags_count[item[0]][item[1]] = word_tags_count[item[0]][item[1]]+1 \n",
    "            else:\n",
    "                # Add the tag as key with value 1\n",
    "                word_tags_count[item[0]][item[1]]=1                                     \n",
    "        else:\n",
    "            # Create a dictionary for the word\n",
    "            word_tags_count[item[0]]={}                                                 \n",
    "            # Add the tag as key with value 1\n",
    "            word_tags_count[item[0]][item[1]]=1                                         "
   ]
  },
  {
   "cell_type": "markdown",
   "metadata": {
    "colab_type": "text",
    "id": "eMTQ7ymRCoRD"
   },
   "source": [
    "### *Now, lets randomly sample 100 words from all the words.*"
   ]
  },
  {
   "cell_type": "code",
   "execution_count": 34,
   "metadata": {
    "colab": {
     "base_uri": "https://localhost:8080/",
     "height": 187
    },
    "colab_type": "code",
    "executionInfo": {
     "elapsed": 258,
     "status": "ok",
     "timestamp": 1538618631482,
     "user": {
      "displayName": "Arun Rajendran",
      "photoUrl": "",
      "userId": "13232103691779797358"
     },
     "user_tz": 420
    },
    "id": "_oUufw5pi754",
    "outputId": "31ae6456-f9af-43c1-cf35-c2be4e3013d9"
   },
   "outputs": [
    {
     "data": {
      "text/plain": [
       "['She-Ra',\n",
       " 'mani/pedi',\n",
       " '*Knocks',\n",
       " 'Example-',\n",
       " 'croon',\n",
       " 'yeah..why',\n",
       " 'Casellas',\n",
       " 'Hotwire.com',\n",
       " 'Hershey',\n",
       " 'Vineyard']"
      ]
     },
     "execution_count": 34,
     "metadata": {
      "tags": []
     },
     "output_type": "execute_result"
    }
   ],
   "source": [
    "# Get all the words by finding all keys of word_tags_count dictionary \n",
    "all_words = word_tags_count.keys()                  \n",
    "\n",
    "import random\n",
    "SEED = 530\n",
    "random.seed(SEED)\n",
    "# Sample 100 random words from all words\n",
    "random_words = random.sample(all_words, 100)  \n",
    "# Display first 10 words\n",
    "random_words[:10]                             "
   ]
  },
  {
   "cell_type": "markdown",
   "metadata": {
    "colab_type": "text",
    "id": "O3hYzI1qCpl3"
   },
   "source": [
    "### *Lets calculate the frequencies of these random words*"
   ]
  },
  {
   "cell_type": "code",
   "execution_count": 35,
   "metadata": {
    "colab": {
     "base_uri": "https://localhost:8080/",
     "height": 34
    },
    "colab_type": "code",
    "executionInfo": {
     "elapsed": 245,
     "status": "ok",
     "timestamp": 1538618633700,
     "user": {
      "displayName": "Arun Rajendran",
      "photoUrl": "",
      "userId": "13232103691779797358"
     },
     "user_tz": 420
    },
    "id": "LYWR05RZIgPZ",
    "outputId": "a857ea55-7e8e-467f-a191-2ba50adf39fc"
   },
   "outputs": [
    {
     "data": {
      "text/plain": [
       "[1, 168, 1, 1, 3, 1, 6, 3, 30, 5]"
      ]
     },
     "execution_count": 35,
     "metadata": {
      "tags": []
     },
     "output_type": "execute_result"
    }
   ],
   "source": [
    "# Get frequencies of random words by summing the tag counts\n",
    "rand_words_freq = [sum(word_tags_count[w].values()) for w in random_words]      \n",
    "# Print the frequencies of last 10 random words\n",
    "rand_words_freq[:10]                                                            "
   ]
  },
  {
   "cell_type": "markdown",
   "metadata": {
    "colab_type": "text",
    "id": "sHoX305RCqzt"
   },
   "source": [
    "### *Lets use matplotlib library to plot the log of frequencies of these words against the words*"
   ]
  },
  {
   "cell_type": "code",
   "execution_count": 9,
   "metadata": {
    "colab": {
     "base_uri": "https://localhost:8080/",
     "height": 437
    },
    "colab_type": "code",
    "executionInfo": {
     "elapsed": 2066,
     "status": "ok",
     "timestamp": 1538618209581,
     "user": {
      "displayName": "Arun Rajendran",
      "photoUrl": "",
      "userId": "13232103691779797358"
     },
     "user_tz": 420
    },
    "id": "OuiqLu8xLaV5",
    "outputId": "2dc954ec-68db-4261-ec05-ac4f1f9b2c0e"
   },
   "outputs": [
    {
     "data": {
      "image/png": "[encoded data removed]",
      "text/plain": [
       "<matplotlib.figure.Figure at 0x7f426ddbdd68>"
      ]
     },
     "metadata": {
      "tags": []
     },
     "output_type": "display_data"
    }
   ],
   "source": [
    "import matplotlib.pyplot as plt\n",
    "import numpy as np\n",
    "\n",
    "indices = np.arange(len(random_words))                          # Get list of numbers from 0 to length of random words\n",
    "plt.figure(figsize=(16,6))\n",
    "plt.bar(indices, np.log(rand_words_freq), color='r')            # Plot log of frequencies with indices\n",
    "plt.xticks(indices, random_words, rotation='vertical')          # Assign xticks to the labels of the random words\n",
    "plt.tight_layout()                                              # Fit the plot in the figure area\n",
    "plt.show()"
   ]
  },
  {
   "cell_type": "markdown",
   "metadata": {
    "colab_type": "text",
    "id": "ZVSlWBF98yCw"
   },
   "source": [
    "## 4b. Histogram Frequency of POS Tag Frequencies\n",
    "### Required: Plot a histogram of the frequencies of all the pos tags assigned by the tagger. For example, you can have \"NN\" (a noun category) occurring 4K times, etc. So, this is similar to (a) above, but seeks to get you working with POS and also see their distribution in the data."
   ]
  },
  {
   "cell_type": "markdown",
   "metadata": {
    "colab_type": "text",
    "id": "cDLmMUw-CsHl"
   },
   "source": [
    "### *Lets create a dictionary with tags as keys and dictionary of words and their counts as values. For example, if we have NN:{'abcd:10,...'} in the dictionary it implies that the word abcd was tagged in 10 of the sentences as NN. This will help us understand the distribution of tags across different words.*"
   ]
  },
  {
   "cell_type": "code",
   "execution_count": 0,
   "metadata": {
    "colab": {},
    "colab_type": "code",
    "id": "IsGMsDssxXyv"
   },
   "outputs": [],
   "source": [
    "tag_words_count = {}                                          # Create dictionary of words & counts for each tag\n",
    "\n",
    "for word in word_tags_count.keys():                           # For all words in word_tags_count\n",
    "    for key,value in word_tags_count[word].items():           # Loop through each tag,value pair\n",
    "        if(key in tag_words_count.keys()):                    # Check if tag is in the dictionary\n",
    "            tag_words_count[key][word]=value                  # Add the word,value pair to the tag dictionary\n",
    "        else:\n",
    "            tag_words_count[key]={}                           # Create a dictionary for the tag\n",
    "            tag_words_count[key][word]=value                  # Add the word,value pair to the tag dictionary"
   ]
  },
  {
   "cell_type": "markdown",
   "metadata": {
    "colab_type": "text",
    "id": "hVW8cNzsCtEQ"
   },
   "source": [
    "### *Now, lets find the frequencies of each tag by calculating the sum of all values in their dictionary and plot them to visualize it.*"
   ]
  },
  {
   "cell_type": "code",
   "execution_count": 11,
   "metadata": {
    "colab": {
     "base_uri": "https://localhost:8080/",
     "height": 437
    },
    "colab_type": "code",
    "executionInfo": {
     "elapsed": 1064,
     "status": "ok",
     "timestamp": 1538618211605,
     "user": {
      "displayName": "Arun Rajendran",
      "photoUrl": "",
      "userId": "13232103691779797358"
     },
     "user_tz": 420
    },
    "id": "nvYnpnh53lkV",
    "outputId": "93d6760b-4838-4c80-8fa7-005aa59054f3"
   },
   "outputs": [
    {
     "data": {
      "image/png": "[encoded data removed]",
      "text/plain": [
       "<matplotlib.figure.Figure at 0x7f426aa9ea90>"
      ]
     },
     "metadata": {
      "tags": []
     },
     "output_type": "display_data"
    }
   ],
   "source": [
    "# Get list of all tags\n",
    "all_tags = tag_words_count.keys()                                                     \n",
    "# The count of each tags as sum of the values for different words\n",
    "tags_count = [sum(tag_words_count[pos].values()) for pos in tag_words_count.keys()]   \n",
    "\n",
    "# Get list of numbers from 0 to length of all tags\n",
    "indices = np.arange(len(all_tags))                                                    \n",
    "plt.figure(figsize=(16,6))\n",
    "# Plot log of frequencies with indices\n",
    "plt.bar(indices, np.log(tags_count), color='r')                                       \n",
    "# Assign xticks to the labels of the all tags\n",
    "plt.xticks(indices, all_tags, rotation='vertical')                                    \n",
    "# Fit the plot in the figure area\n",
    "plt.tight_layout()                                                                    \n",
    "plt.show()"
   ]
  },
  {
   "cell_type": "markdown",
   "metadata": {
    "colab_type": "text",
    "id": "tJQlSKCY9IgI"
   },
   "source": [
    "## 4c. Top 20 Adjectives\n",
    "### Required: Print the top 20 adjectives in the data. (Note: adjectives are tagged \"JJ\" with NLTK UPenn tagset."
   ]
  },
  {
   "cell_type": "markdown",
   "metadata": {
    "colab_type": "text",
    "id": "VFHPff6ECuaT"
   },
   "source": [
    "### *Lets define a counter object on dictionary corrosponding to 'JJ' tag to get the most common adjectives.*"
   ]
  },
  {
   "cell_type": "code",
   "execution_count": 12,
   "metadata": {
    "colab": {
     "base_uri": "https://localhost:8080/",
     "height": 357
    },
    "colab_type": "code",
    "executionInfo": {
     "elapsed": 305,
     "status": "ok",
     "timestamp": 1538618212215,
     "user": {
      "displayName": "Arun Rajendran",
      "photoUrl": "",
      "userId": "13232103691779797358"
     },
     "user_tz": 420
    },
    "id": "OVa5yvKv54qv",
    "outputId": "81416488-b0a9-4060-a0b1-1cd7c288e1ff"
   },
   "outputs": [
    {
     "data": {
      "text/plain": [
       "[('good', 96970),\n",
       " ('great', 72814),\n",
       " ('little', 29323),\n",
       " ('nice', 28300),\n",
       " ('new', 20287),\n",
       " ('bad', 20070),\n",
       " ('much', 19720),\n",
       " ('many', 18071),\n",
       " ('first', 17298),\n",
       " ('delicious', 17156),\n",
       " ('last', 17053),\n",
       " ('sure', 16873),\n",
       " ('small', 15156),\n",
       " ('next', 15126),\n",
       " ('fresh', 14552),\n",
       " ('happy', 13855),\n",
       " ('friendly', 13659),\n",
       " ('big', 13219),\n",
       " ('hot', 13113),\n",
       " ('old', 12919)]"
      ]
     },
     "execution_count": 12,
     "metadata": {
      "tags": []
     },
     "output_type": "execute_result"
    }
   ],
   "source": [
    "c = Counter(tag_words_count['JJ'])          # Create counter object of dictionary for JJ tag distribution\n",
    "top20_adj = c.most_common(20)               # Get the 20 most common adjectives(JJ tag)\n",
    "top20_adj"
   ]
  },
  {
   "cell_type": "markdown",
   "metadata": {
    "colab_type": "text",
    "id": "ZHJwnJnp9TIq"
   },
   "source": [
    "## 4d. Top 20 Proper Nouns\n",
    "### Required: Print the top 20 proper nouns in the data. (If using UPenn tagset, proper nouns will be tagged as \"NNPS\")."
   ]
  },
  {
   "cell_type": "markdown",
   "metadata": {
    "colab_type": "text",
    "id": "xXvKiST3Cw9o"
   },
   "source": [
    "### *Similarly, we define a counter object on dictionary corrosponding to 'NNPS' tag to get the most common Proper Nouns.*"
   ]
  },
  {
   "cell_type": "code",
   "execution_count": 13,
   "metadata": {
    "colab": {
     "base_uri": "https://localhost:8080/",
     "height": 357
    },
    "colab_type": "code",
    "executionInfo": {
     "elapsed": 265,
     "status": "ok",
     "timestamp": 1538618212577,
     "user": {
      "displayName": "Arun Rajendran",
      "photoUrl": "",
      "userId": "13232103691779797358"
     },
     "user_tz": 420
    },
    "id": "tqReC4SI6KSk",
    "outputId": "ffe17813-8681-4711-c7a7-a87aebc75558"
   },
   "outputs": [
    {
     "data": {
      "text/plain": [
       "[('Prices', 160),\n",
       " ('Americans', 160),\n",
       " ('Brothers', 149),\n",
       " ('Services', 148),\n",
       " ('States', 125),\n",
       " ('Beans', 122),\n",
       " ('Always', 109),\n",
       " ('Friends', 97),\n",
       " ('Foods', 93),\n",
       " ('Suns', 85),\n",
       " ('Trans', 80),\n",
       " ('Airlines', 79),\n",
       " ('Anyways', 77),\n",
       " ('Sundays', 74),\n",
       " ('Jewelers', 71),\n",
       " ('Asians', 69),\n",
       " ('Yelpers', 66),\n",
       " ('Thats', 58),\n",
       " ('Cleaners', 52),\n",
       " ('Airways', 50)]"
      ]
     },
     "execution_count": 13,
     "metadata": {
      "tags": []
     },
     "output_type": "execute_result"
    }
   ],
   "source": [
    "c = Counter(tag_words_count['NNPS'])           # Create counter object of dictionary for NNPS tag distribution\n",
    "c.most_common(20)                              # Print 20 most common proper nouns(NNPS tag)"
   ]
  },
  {
   "cell_type": "markdown",
   "metadata": {
    "colab_type": "text",
    "id": "aBHLOXIP9fQx"
   },
   "source": [
    "## 5a. Word2vec Training\n",
    "### Required: Train a word2vect or FastText model word embeddings model. Make some reasonable choices about window size, threshold of words to include, and other important model parameters. Explain these choices in the Jupyter Notebook you will submit."
   ]
  },
  {
   "cell_type": "markdown",
   "metadata": {
    "colab_type": "text",
    "id": "jGfbSnE5Cy1a"
   },
   "source": [
    "### *Now, lets define & train a word2vec model on the filtered sentences (obtained after tokenizing & removing stop words).*\n",
    "\n",
    "### *For finding the hyperparameters of word2vec model, lets first find the total number of words in our vocabulary(after removing stop words).*"
   ]
  },
  {
   "cell_type": "code",
   "execution_count": 14,
   "metadata": {
    "colab": {
     "base_uri": "https://localhost:8080/",
     "height": 34
    },
    "colab_type": "code",
    "executionInfo": {
     "elapsed": 390,
     "status": "ok",
     "timestamp": 1538618213067,
     "user": {
      "displayName": "Arun Rajendran",
      "photoUrl": "",
      "userId": "13232103691779797358"
     },
     "user_tz": 420
    },
    "id": "-GwgxnK8TZEr",
    "outputId": "4c8a38cb-1218-4126-a144-22e266b7c561"
   },
   "outputs": [
    {
     "data": {
      "text/plain": [
       "210778"
      ]
     },
     "execution_count": 14,
     "metadata": {
      "tags": []
     },
     "output_type": "execute_result"
    }
   ],
   "source": [
    "len(all_words)                                          # Get the total number of words"
   ]
  },
  {
   "cell_type": "markdown",
   "metadata": {
    "colab_type": "text",
    "id": "5vEEsviFXhs3"
   },
   "source": [
    "### *Now, lets find the average length of a sentence*"
   ]
  },
  {
   "cell_type": "code",
   "execution_count": 15,
   "metadata": {
    "colab": {
     "base_uri": "https://localhost:8080/",
     "height": 34
    },
    "colab_type": "code",
    "executionInfo": {
     "elapsed": 562,
     "status": "ok",
     "timestamp": 1538618213733,
     "user": {
      "displayName": "Arun Rajendran",
      "photoUrl": "",
      "userId": "13232103691779797358"
     },
     "user_tz": 420
    },
    "id": "bltA5HgdXjPw",
    "outputId": "e51b2a7b-1762-4eb2-bfe8-00b98f50c11a"
   },
   "outputs": [
    {
     "data": {
      "text/plain": [
       "24.36501127694536"
      ]
     },
     "execution_count": 15,
     "metadata": {
      "tags": []
     },
     "output_type": "execute_result"
    }
   ],
   "source": [
    "# Get lengths of each sentence as list\n",
    "lengths = [len(i) for i in filtered_sentences]          \n",
    "\n",
    "# Average length of sentence = Total length of sentences/Number of sentences\n",
    "sum(lengths)/len(lengths)                               "
   ]
  },
  {
   "cell_type": "markdown",
   "metadata": {
    "colab_type": "text",
    "id": "i-bL4PQLiOBP"
   },
   "source": [
    "### *Lets get Average frequency of a word*"
   ]
  },
  {
   "cell_type": "code",
   "execution_count": 16,
   "metadata": {
    "colab": {
     "base_uri": "https://localhost:8080/",
     "height": 34
    },
    "colab_type": "code",
    "executionInfo": {
     "elapsed": 214,
     "status": "ok",
     "timestamp": 1538618214009,
     "user": {
      "displayName": "Arun Rajendran",
      "photoUrl": "",
      "userId": "13232103691779797358"
     },
     "user_tz": 420
    },
    "id": "nyRWL3_afSkp",
    "outputId": "b8583d54-090e-4223-fd00-6006abc468cb"
   },
   "outputs": [
    {
     "data": {
      "text/plain": [
       "49.153461160544765"
      ]
     },
     "execution_count": 16,
     "metadata": {
      "tags": []
     },
     "output_type": "execute_result"
    }
   ],
   "source": [
    "# Get average frequency of word (sum of frequencies/no of words)\n",
    "sum(wordsfreq.values())/len(wordsfreq.keys())           "
   ]
  },
  {
   "cell_type": "markdown",
   "metadata": {
    "colab_type": "text",
    "id": "mW2HlslfTdeo"
   },
   "source": [
    "### *1. For a vocabulary consisting of approximately 200k words, dimension of word vectors can be taken has 100.*\n",
    "### *2. Since each sentence has average length of 24, window size can be assumed to be 10 as it covers 10 words surrounding the context word. Also, window size of 10 gives results that are more semantic in nature compared to window size of 5 as it gives results that are syntactic in nature.*\n",
    "### *3. Min_count is for ignoring words having lower frequency and since average frequency of words is around 50, we choose this value as 50 in order to remove noisy words.*\n",
    "### *4. Since, the corpus is large, we can use CBOW instead of Skip gram as it works better and leave sg to be default value of 0.* \n",
    "### *5. The number of iterations is set to 3 in order to keep training time lower.*  \n"
   ]
  },
  {
   "cell_type": "code",
   "execution_count": 0,
   "metadata": {
    "colab": {},
    "colab_type": "code",
    "id": "fm_vYf7H-7Da"
   },
   "outputs": [],
   "source": [
    "# Train a word2vec model \n",
    "\n",
    "from gensim.models import Word2Vec\n",
    "model=Word2Vec(filtered_sentences,size=100, window=10,min_count=50)             # Define a word2vec model\n",
    "model.train(filtered_sentences,total_examples=len(filtered_sentences),epochs=3) # Train the model for 3 epochs\n",
    "model.save(\"word2vec.model\")                                                    # Save the model"
   ]
  },
  {
   "cell_type": "markdown",
   "metadata": {
    "colab_type": "text",
    "id": "NfO-cxUC9sgQ"
   },
   "source": [
    "## 5b. Most similar Adjectives\n",
    "### Required: For the top 20 adjectives in the text data file you used for training your embedding model, query the embedding model for the 3 most similar words. "
   ]
  },
  {
   "cell_type": "markdown",
   "metadata": {
    "colab_type": "text",
    "id": "815aLajICzrF"
   },
   "source": [
    "### *Now, lets print the most similar words for the top 20 adjectives that we had found earlier.*"
   ]
  },
  {
   "cell_type": "code",
   "execution_count": 18,
   "metadata": {
    "colab": {
     "base_uri": "https://localhost:8080/",
     "height": 751
    },
    "colab_type": "code",
    "executionInfo": {
     "elapsed": 611,
     "status": "ok",
     "timestamp": 1538618471224,
     "user": {
      "displayName": "Arun Rajendran",
      "photoUrl": "",
      "userId": "13232103691779797358"
     },
     "user_tz": 420
    },
    "id": "V1mSP0HMSYcL",
    "outputId": "1d389faf-9ed0-4128-faa3-7a1fbcbee57d"
   },
   "outputs": [
    {
     "name": "stdout",
     "output_type": "stream",
     "text": [
      "good\n",
      "[('decent', 0.8281090259552002), ('great', 0.7617058753967285), ('so-so', 0.7471593618392944)]\n",
      "great\n",
      "[('fantastic', 0.8623530864715576), ('awesome', 0.8622987866401672), ('excellent', 0.8209205269813538)]\n",
      "little\n",
      "[('bit', 0.8873640298843384), ('tad', 0.7941861152648926), ('kinda', 0.6544793248176575)]\n",
      "nice\n",
      "[('friendly', 0.7203831672668457), ('pleasant', 0.7137796878814697), ('great', 0.6392579078674316)]\n",
      "new\n",
      "[('newly', 0.5325199365615845), ('current', 0.5212125778198242), ('newest', 0.48027071356773376)]\n",
      "bad\n",
      "[('horrible', 0.7084616422653198), ('terrible', 0.7004413604736328), ('awful', 0.6622617244720459)]\n",
      "much\n",
      "[('actually', 0.5734549164772034), ('MUCH', 0.51764976978302), ('lot', 0.5103425979614258)]\n",
      "many\n",
      "[('several', 0.8038645386695862), ('numerous', 0.7983697056770325), ('countless', 0.7686682939529419)]\n",
      "first\n",
      "[('1st', 0.7909747958183289), ('second', 0.7833964824676514), ('First', 0.6725066304206848)]\n",
      "delicious\n",
      "[('delish', 0.8621597290039062), ('yummy', 0.8572527170181274), ('scrumptious', 0.8438035249710083)]\n",
      "last\n",
      "[('Last', 0.8242403268814087), ('ago', 0.7143625617027283), ('past', 0.6940860748291016)]\n",
      "sure\n",
      "[('guessing', 0.6650516390800476), ('assuming', 0.6311231851577759), ('glad', 0.57407546043396)]\n",
      "small\n",
      "[('large', 0.8202035427093506), ('tiny', 0.7571879625320435), ('smallish', 0.6871476173400879)]\n",
      "next\n",
      "[('Next', 0.7251099348068237), ('first', 0.5392769575119019), ('second', 0.5367599725723267)]\n",
      "fresh\n",
      "[('freshly', 0.7411985993385315), ('Fresh', 0.7376164793968201), ('FRESH', 0.6271103024482727)]\n",
      "happy\n",
      "[('Happy', 0.7408075928688049), ('pleased', 0.5109667181968689), ('24', 0.5084593892097473)]\n",
      "friendly\n",
      "[('polite', 0.7864802479743958), ('Friendly', 0.7680663466453552), ('courteous', 0.7569925785064697)]\n",
      "big\n",
      "[('huge', 0.8777388334274292), ('HUGE', 0.72176593542099), ('large', 0.7003899812698364)]\n",
      "hot\n",
      "[('HOT', 0.6627265214920044), ('Hot', 0.653127133846283), ('steaming', 0.6204107999801636)]\n",
      "old\n",
      "[('olds', 0.746889054775238), ('elementary', 0.6475654244422913), ('ago', 0.5658596754074097)]\n"
     ]
    }
   ],
   "source": [
    "for word,count in top20_adj:                                     # For word and count in top20 adjectives\n",
    "    print(word)\n",
    "    print(model.wv.most_similar(positive = word,topn=3))           # Print word and 3 of their most similar words"
   ]
  },
  {
   "cell_type": "markdown",
   "metadata": {
    "colab_type": "text",
    "id": "d0UXjU8DDAC0"
   },
   "source": [
    "## References:\n",
    "\n",
    "\n",
    "#### 1)Downloading files from google drive\n",
    "https://stackoverflow.com/questions/38511444/python-download-files-from-google-drive-using-url\n",
    "#### 2)Writing to text files\n",
    "https://www.pythonforbeginners.com/files/reading-and-writing-files-in-python\n",
    "#### 3)Try except continue\n",
    "https://stackoverflow.com/questions/19522990/python-catch-exception-and-continue-try-block\n",
    "#### 4)Counter for most frequent words\n",
    "https://stackoverflow.com/questions/40050154/python-get-top-values-in-dictionary\n",
    "#### 5)Removing stop words & POS tagging\n",
    "https://www.geeksforgeeks.org/part-speech-tagging-stop-words-using-nltk-python/\n",
    "#### 6)Random words with seed\n",
    "https://docs.python.org/3/library/random.html\n",
    "#### 7)NLTK Packages download\n",
    "https://stackoverflow.com/questions/34828742/how-to-download-all-packages-in-nltk-in-python\n",
    "#### 8)Sum all values in dictionary\n",
    "https://stackoverflow.com/questions/4880960/how-to-sum-all-the-values-in-a-dictionary\n",
    "#### 9)Barplot with labels\n",
    "https://stackoverflow.com/questions/45080698/make-frequency-histogram-from-list-with-tuple-elements\n",
    "#### 10)Gensim Word2Vec\n",
    "http://kavita-ganesan.com/gensim-word2vec-tutorial-starter-code/#.W62YVGhKjIV\n"
   ]
  }
 ],
 "metadata": {
  "accelerator": "GPU",
  "colab": {
   "collapsed_sections": [],
   "name": "ling530f_assignment.ipynb",
   "provenance": [],
   "version": "0.3.2"
  },
  "kernelspec": {
   "display_name": "Python 3",
   "language": "python",
   "name": "python3"
  },
  "language_info": {
   "codemirror_mode": {
    "name": "ipython",
    "version": 3
   },
   "file_extension": ".py",
   "mimetype": "text/x-python",
   "name": "python",
   "nbconvert_exporter": "python",
   "pygments_lexer": "ipython3",
   "version": "3.5.2"
  }
 },
 "nbformat": 4,
 "nbformat_minor": 1
}
